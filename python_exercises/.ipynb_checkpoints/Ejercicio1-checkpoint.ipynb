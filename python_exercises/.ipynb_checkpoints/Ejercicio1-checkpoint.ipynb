{
 "cells": [
  {
   "cell_type": "code",
   "execution_count": 1,
   "metadata": {},
   "outputs": [
    {
     "name": "stdout",
     "output_type": "stream",
     "text": [
      "La suma de los valores de las letras en la cadena es: 0\n"
     ]
    }
   ],
   "source": [
    "def valor_letra(letra):\n",
    "    \"\"\"Devuelve el valor de una letra minúscula según su posición en el alfabeto.\"\"\"\n",
    "    return ord(letra) - ord('a') + 1\n",
    "\n",
    "def validar_cadena(cadena):\n",
    "    \"\"\"Verifica si la cadena contiene solo letras minúsculas.\"\"\"\n",
    "    for i, c in enumerate(cadena):\n",
    "        if not c.islower():\n",
    "            if c.isupper():\n",
    "                return False, f\"Cambia a minúscula la letra '{c}' en la posición {i + 1}.\"\n",
    "            elif c.isdigit():\n",
    "                return False, f\"Cambia el número en la posición {i + 1} por una letra minúscula.\"\n",
    "    return True, \"\"\n",
    "\n",
    "def suma_valores_cadena(cadena):\n",
    "    \"\"\"Calcula la suma de los valores de las letras en la cadena.\"\"\"\n",
    "    return sum(valor_letra(c) for c in cadena)\n",
    "\n",
    "def main():\n",
    "    while True:\n",
    "        cadena = input(\"Introduce una cadena de letras minúsculas: \")\n",
    "        es_valida, mensaje = validar_cadena(cadena)\n",
    "        \n",
    "        if es_valida:\n",
    "            suma = suma_valores_cadena(cadena)\n",
    "            print(f\"La suma de los valores de las letras en la cadena es: {suma}\")\n",
    "            break\n",
    "        else:\n",
    "            print(mensaje)\n",
    "\n",
    "if __name__ == \"__main__\":\n",
    "    main()\n"
   ]
  }
 ],
 "metadata": {
  "kernelspec": {
   "display_name": "base",
   "language": "python",
   "name": "python3"
  },
  "language_info": {
   "codemirror_mode": {
    "name": "ipython",
    "version": 3
   },
   "file_extension": ".py",
   "mimetype": "text/x-python",
   "name": "python",
   "nbconvert_exporter": "python",
   "pygments_lexer": "ipython3",
   "version": "3.9.13"
  }
 },
 "nbformat": 4,
 "nbformat_minor": 5
}
